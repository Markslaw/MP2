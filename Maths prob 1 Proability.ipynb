{
 "cells": [
  {
   "cell_type": "code",
   "execution_count": 12,
   "metadata": {
    "collapsed": false
   },
   "outputs": [
    {
     "data": {
      "text/plain": [
       "0.41427682094285423"
      ]
     },
     "execution_count": 12,
     "metadata": {},
     "output_type": "execute_result"
    }
   ],
   "source": [
    "random.random()"
   ]
  },
  {
   "cell_type": "code",
   "execution_count": 13,
   "metadata": {
    "collapsed": false
   },
   "outputs": [
    {
     "data": {
      "text/plain": [
       "0.8593458092602994"
      ]
     },
     "execution_count": 13,
     "metadata": {},
     "output_type": "execute_result"
    }
   ],
   "source": [
    "import random\n",
    "random.random()\n"
   ]
  },
  {
   "cell_type": "code",
   "execution_count": 3,
   "metadata": {
    "collapsed": true
   },
   "outputs": [],
   "source": [
    "red = 8\n",
    "blue = 4"
   ]
  },
  {
   "cell_type": "code",
   "execution_count": 4,
   "metadata": {
    "collapsed": false
   },
   "outputs": [
    {
     "ename": "NameError",
     "evalue": "name 'r' is not defined",
     "output_type": "error",
     "traceback": [
      "\u001b[1;31m---------------------------------------------------------------------------\u001b[0m",
      "\u001b[1;31mNameError\u001b[0m                                 Traceback (most recent call last)",
      "\u001b[1;32m<ipython-input-4-c411416d4d8d>\u001b[0m in \u001b[0;36m<module>\u001b[1;34m()\u001b[0m\n\u001b[0;32m      1\u001b[0m \u001b[1;31m# with reoalcement the proabilities dont change with replacement they do\u001b[0m\u001b[1;33m\u001b[0m\u001b[1;33m\u001b[0m\u001b[0m\n\u001b[1;32m----> 2\u001b[1;33m \u001b[1;33m[\u001b[0m\u001b[0mr\u001b[0m\u001b[1;33m,\u001b[0m\u001b[0mr\u001b[0m\u001b[1;33m]\u001b[0m\u001b[1;33m[\u001b[0m\u001b[0mr\u001b[0m\u001b[1;33m,\u001b[0m\u001b[0mb\u001b[0m\u001b[1;33m]\u001b[0m\u001b[1;33m[\u001b[0m\u001b[0mb\u001b[0m\u001b[1;33m,\u001b[0m\u001b[0mr\u001b[0m\u001b[1;33m]\u001b[0m\u001b[1;33m[\u001b[0m\u001b[0mb\u001b[0m\u001b[1;33m,\u001b[0m\u001b[0mb\u001b[0m\u001b[1;33m]\u001b[0m\u001b[1;33m\u001b[0m\u001b[0m\n\u001b[0m",
      "\u001b[1;31mNameError\u001b[0m: name 'r' is not defined"
     ]
    }
   ],
   "source": [
    "# with reoalcement the proabilities dont change with replacement they do\n",
    "[r,r][r,b][b,r][b,b]"
   ]
  },
  {
   "cell_type": "code",
   "execution_count": 5,
   "metadata": {
    "collapsed": false
   },
   "outputs": [
    {
     "ename": "SyntaxError",
     "evalue": "invalid syntax (<ipython-input-5-15993bac1535>, line 1)",
     "output_type": "error",
     "traceback": [
      "\u001b[1;36m  File \u001b[1;32m\"<ipython-input-5-15993bac1535>\"\u001b[1;36m, line \u001b[1;32m1\u001b[0m\n\u001b[1;33m    possibility of a redfirst is 8/12\u001b[0m\n\u001b[1;37m                 ^\u001b[0m\n\u001b[1;31mSyntaxError\u001b[0m\u001b[1;31m:\u001b[0m invalid syntax\n"
     ]
    }
   ],
   "source": [
    "possibility of a redfirst is 8/12\n",
    "possibility of a blue first is 4/12\n",
    "possibility of a red followed by a red having selected a red 7/11\n",
    "probability of {r,r} is 56/132"
   ]
  },
  {
   "cell_type": "code",
   "execution_count": 10,
   "metadata": {
    "collapsed": false
   },
   "outputs": [
    {
     "name": "stdout",
     "output_type": "stream",
     "text": [
      "The first marble was blue\n"
     ]
    }
   ],
   "source": [
    "if random.random() < 8/12:\n",
    "    print (\"The first marble is red\")\n",
    "else:\n",
    "    print(\"The first marble was blue\")"
   ]
  },
  {
   "cell_type": "code",
   "execution_count": 14,
   "metadata": {
    "collapsed": false
   },
   "outputs": [
    {
     "name": "stdout",
     "output_type": "stream",
     "text": [
      "The number of red is 66635 and the number of blue is 33365\n"
     ]
    }
   ],
   "source": [
    "num_red = 0\n",
    "for i in range(100000):\n",
    "    if random.random() < 8/12:\n",
    "        num_red += 1\n",
    "        \n",
    "print(\"The number of red is\",num_red, \"and the number of blue is\", 100000-num_red)"
   ]
  },
  {
   "cell_type": "code",
   "execution_count": 58,
   "metadata": {
    "collapsed": false
   },
   "outputs": [
    {
     "name": "stdout",
     "output_type": "stream",
     "text": [
      "0.66747\n"
     ]
    }
   ],
   "source": [
    "iterations = 100000\n",
    "num_red = 8\n",
    "num_marbles = 12\n",
    "red_count = 0\n",
    "\n",
    "for i in range (iterations):\n",
    "    if random.random() < num_red/num_marbles:\n",
    "        red_count += 1\n",
    "print(red_count/iterations)"
   ]
  },
  {
   "cell_type": "code",
   "execution_count": 3,
   "metadata": {
    "collapsed": false
   },
   "outputs": [
    {
     "name": "stdout",
     "output_type": "stream",
     "text": [
      "The probability of getting a red followed by a red is  0.42533\n"
     ]
    }
   ],
   "source": [
    "iterations = 100000\n",
    "num_red = 8\n",
    "num_marbles = 12\n",
    "red_count = 0\n",
    "redred_count = 0\n",
    "blueblue_count = 0\n",
    "\n",
    "for i in range (iterations):\n",
    "    if random.random() < num_red / num_marbles:\n",
    "        if random.random() < (num_red -1) / (num_marbles -1):  \n",
    "            redred_count += 1\n",
    "print(\"The probability of getting a red followed by a red is \",redred_count/iterations)"
   ]
  },
  {
   "cell_type": "code",
   "execution_count": 61,
   "metadata": {
    "collapsed": true
   },
   "outputs": [],
   "source": [
    "### write code that models getting blue blue"
   ]
  },
  {
   "cell_type": "code",
   "execution_count": 4,
   "metadata": {
    "collapsed": false
   },
   "outputs": [
    {
     "name": "stdout",
     "output_type": "stream",
     "text": [
      "The probability of picking a blue followed by a blue is : 0.09203\n"
     ]
    }
   ],
   "source": [
    "iterations = 100000\n",
    "num_red = 8\n",
    "num_marbles = 12\n",
    "red_count = 0\n",
    "redred_count = 0\n",
    "blueblue_count = 0\n",
    "num_blue = 4\n",
    "\n",
    "for i in range (iterations):\n",
    "    if random.random() < num_blue / num_marbles:\n",
    "        if random.random() < (num_blue -1) / (num_marbles-1):  \n",
    "            blueblue_count += 1\n",
    "print(\"The probability of picking a blue followed by a blue is :\",blueblue_count/iterations)"
   ]
  },
  {
   "cell_type": "code",
   "execution_count": 73,
   "metadata": {
    "collapsed": false
   },
   "outputs": [
    {
     "data": {
      "text/plain": [
       "0.09090909090909091"
      ]
     },
     "execution_count": 73,
     "metadata": {},
     "output_type": "execute_result"
    }
   ],
   "source": [
    "4/12 * 3/11"
   ]
  },
  {
   "cell_type": "code",
   "execution_count": 9,
   "metadata": {
    "collapsed": false
   },
   "outputs": [
    {
     "name": "stdout",
     "output_type": "stream",
     "text": [
      "The probability of picking a red followed by a blue is : 0.242\n"
     ]
    }
   ],
   "source": [
    "iterations = 100000\n",
    "num_red = 8\n",
    "num_marbles = 12\n",
    "red_count = 0\n",
    "redred_count = 0\n",
    "blueblue_count = 0\n",
    "num_blue = 4\n",
    "redblue_count = 0\n",
    "\n",
    "for i in range (iterations):\n",
    "    if random.random() < num_red / num_marbles:\n",
    "        if random.random() < num_blue / (num_marbles-1):  \n",
    "            redblue_count += 1\n",
    "print(\"The probability of picking a red followed by a blue is :\",redblue_count/iterations)"
   ]
  },
  {
   "cell_type": "code",
   "execution_count": 11,
   "metadata": {
    "collapsed": false
   },
   "outputs": [
    {
     "name": "stdout",
     "output_type": "stream",
     "text": [
      "The probability of picking a blue followed by a red is : 0.24215\n"
     ]
    }
   ],
   "source": [
    "iterations = 100000\n",
    "num_red = 8\n",
    "num_marbles = 12\n",
    "red_count = 0\n",
    "redred_count = 0\n",
    "blueblue_count = 0\n",
    "num_blue = 4\n",
    "redblue_count = 0\n",
    "bluered_count = 0\n",
    "\n",
    "for i in range (iterations):\n",
    "    if random.random() < num_blue / num_marbles:\n",
    "        if random.random() < num_red / (num_marbles-1):  \n",
    "            bluered_count += 1\n",
    "print(\"The probability of picking a blue followed by a red is :\",bluered_count/iterations)"
   ]
  },
  {
   "cell_type": "code",
   "execution_count": 77,
   "metadata": {
    "collapsed": false
   },
   "outputs": [
    {
     "data": {
      "text/plain": [
       "0.2424242424242424"
      ]
     },
     "execution_count": 77,
     "metadata": {},
     "output_type": "execute_result"
    }
   ],
   "source": [
    "8/12 * 4/11"
   ]
  },
  {
   "cell_type": "code",
   "execution_count": 78,
   "metadata": {
    "collapsed": false
   },
   "outputs": [
    {
     "name": "stderr",
     "output_type": "stream",
     "text": [
      "warning: LF will be replaced by CRLF in .ipynb_checkpoints/Maths prob 1 Proability-checkpoint.ipynb.\n",
      "The file will have its original line endings in your working directory.\n",
      "warning: LF will be replaced by CRLF in Maths prob 1 Proability.ipynb.\n",
      "The file will have its original line endings in your working directory.\n"
     ]
    }
   ],
   "source": [
    "!git add ."
   ]
  },
  {
   "cell_type": "code",
   "execution_count": 79,
   "metadata": {
    "collapsed": true
   },
   "outputs": [],
   "source": [
    "!git add ."
   ]
  },
  {
   "cell_type": "code",
   "execution_count": 80,
   "metadata": {
    "collapsed": false
   },
   "outputs": [
    {
     "name": "stdout",
     "output_type": "stream",
     "text": [
      "On branch master\n",
      "Your branch is up-to-date with 'origin/master'.\n",
      "Changes to be committed:\n",
      "  (use \"git reset HEAD <file>...\" to unstage)\n",
      "\n",
      "\tnew file:   .ipynb_checkpoints/Maths prob 1 Proability-checkpoint.ipynb\n",
      "\tnew file:   Maths prob 1 Proability.ipynb\n",
      "\n"
     ]
    }
   ],
   "source": [
    "!git status\n"
   ]
  },
  {
   "cell_type": "code",
   "execution_count": 81,
   "metadata": {
    "collapsed": false
   },
   "outputs": [
    {
     "name": "stderr",
     "output_type": "stream",
     "text": [
      "warning: LF will be replaced by CRLF in Maths prob 1 Proability.ipynb.\n",
      "The file will have its original line endings in your working directory.\n"
     ]
    }
   ],
   "source": [
    "!git add ."
   ]
  },
  {
   "cell_type": "code",
   "execution_count": null,
   "metadata": {
    "collapsed": true
   },
   "outputs": [],
   "source": [
    "!git push"
   ]
  },
  {
   "cell_type": "code",
   "execution_count": 37,
   "metadata": {
    "collapsed": false
   },
   "outputs": [
    {
     "name": "stdout",
     "output_type": "stream",
     "text": [
      "The probability of picking a red followed by a blue is : 0.24162\n",
      "The probability of picking a blue followed by a red is : 0.24336\n",
      "The probability of picking a red followed by a red is : 0.42332\n",
      "The probability of picking a blue followed by a blue is: 0.09117\n",
      "The degree of accuracy of this program is :  -0.053 %.\n"
     ]
    }
   ],
   "source": [
    "iterations = 100000\n",
    "num_red = 8\n",
    "num_marbles = 12\n",
    "red_count = 0\n",
    "redred_count = 0\n",
    "blueblue_count = 0\n",
    "num_blue = 4\n",
    "redblue_count = 0\n",
    "bluered_count = 0\n",
    "degreeacc = 0\n",
    "\n",
    "for i in range (iterations):\n",
    "    if random.random() < num_blue / num_marbles:\n",
    "        if random.random() < num_red / (num_marbles-1):  \n",
    "            bluered_count += 1\n",
    "            \n",
    "for i in range (iterations):\n",
    "    if random.random() < num_blue / num_marbles:\n",
    "        if random.random() < (num_blue -1) / (num_marbles-1):  \n",
    "            blueblue_count += 1\n",
    "            \n",
    "for i in range (iterations):\n",
    "    if random.random() < num_red / num_marbles:\n",
    "        if random.random() < (num_red -1) / (num_marbles -1):  \n",
    "            redred_count += 1\n",
    "            \n",
    "for i in range (iterations):\n",
    "    if random.random() < num_red / num_marbles:\n",
    "        if random.random() < num_blue / (num_marbles-1):  \n",
    "            redblue_count += 1\n",
    "\n",
    "print(\"The probability of picking a red followed by a blue is :\",redblue_count/iterations)\n",
    "print(\"The probability of picking a blue followed by a red is :\",bluered_count/iterations)\n",
    "print(\"The probability of picking a red followed by a red is :\",redred_count/iterations)\n",
    "print(\"The probability of picking a blue followed by a blue is:\",blueblue_count/iterations)\n",
    "\n",
    "degreeacc = redblue_count + bluered_count + redred_count + blueblue_count - iterations \n",
    "\n",
    "print(\"The degree of accuracy of this program is : \",degreeacc/100000*100,\"%.\")"
   ]
  },
  {
   "cell_type": "code",
   "execution_count": 19,
   "metadata": {
    "collapsed": false
   },
   "outputs": [
    {
     "data": {
      "text/plain": [
       "1.0015399999999999"
      ]
     },
     "execution_count": 19,
     "metadata": {},
     "output_type": "execute_result"
    }
   ],
   "source": [
    "0.2434 + 0.24331 + 0.42461 + 0.09022"
   ]
  },
  {
   "cell_type": "code",
   "execution_count": null,
   "metadata": {
    "collapsed": true
   },
   "outputs": [],
   "source": [
    "# pretty close "
   ]
  }
 ],
 "metadata": {
  "kernelspec": {
   "display_name": "Python 3",
   "language": "python",
   "name": "python3"
  },
  "language_info": {
   "codemirror_mode": {
    "name": "ipython",
    "version": 3
   },
   "file_extension": ".py",
   "mimetype": "text/x-python",
   "name": "python",
   "nbconvert_exporter": "python",
   "pygments_lexer": "ipython3",
   "version": "3.5.1"
  }
 },
 "nbformat": 4,
 "nbformat_minor": 0
}
