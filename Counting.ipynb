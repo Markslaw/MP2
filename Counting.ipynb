{
 "cells": [
  {
   "cell_type": "code",
   "execution_count": 7,
   "metadata": {
    "collapsed": false,
    "scrolled": true
   },
   "outputs": [
    {
     "name": "stdout",
     "output_type": "stream",
     "text": [
      "1\n",
      "2\n",
      "3\n",
      "4\n",
      "5\n",
      "6\n",
      "7\n",
      "8\n",
      "9\n",
      "10\n",
      "11\n",
      "12\n",
      "13\n",
      "14\n",
      "15\n",
      "16\n",
      "17\n",
      "18\n",
      "19\n",
      "20\n",
      "21\n",
      "22\n",
      "23\n",
      "24\n",
      "25\n",
      "26\n",
      "27\n",
      "28\n",
      "29\n",
      "30\n",
      "31\n",
      "32\n",
      "33\n",
      "34\n",
      "35\n",
      "36\n",
      "37\n",
      "38\n",
      "39\n",
      "40\n",
      "41\n",
      "42\n",
      "43\n",
      "44\n",
      "45\n",
      "46\n",
      "47\n",
      "48\n",
      "49\n",
      "50\n"
     ]
    }
   ],
   "source": [
    "count = (50)\n",
    "var = 0\n",
    "\n",
    "\n",
    "for i in range (count):\n",
    "    var += 1\n",
    "    print(var)"
   ]
  },
  {
   "cell_type": "code",
   "execution_count": 21,
   "metadata": {
    "collapsed": false,
    "scrolled": true
   },
   "outputs": [
    {
     "name": "stdout",
     "output_type": "stream",
     "text": [
      "['*']\n",
      "['*', '+']\n",
      "['*', '+', '!']\n",
      "['*', '+', '!', '@']\n",
      "['*', '+', '!', '@', '<']\n",
      "['*', '+', '!', '@', '<', '%']\n",
      "['*', '+', '!', '@', '<', '%', '?']\n"
     ]
    }
   ],
   "source": [
    "count = '*+!@<%?'\n",
    "\n",
    "\n",
    "myList=[]\n",
    "i=0\n",
    "for i in range(7):\n",
    "    myList.append(count[i])\n",
    "    print(myList)\n",
    "    "
   ]
  },
  {
   "cell_type": "code",
   "execution_count": 1,
   "metadata": {
    "collapsed": false
   },
   "outputs": [
    {
     "name": "stdout",
     "output_type": "stream",
     "text": [
      "['*']\n",
      "['*', '+']\n",
      "['*', '+', '!']\n",
      "['*', '+', '!', '@']\n",
      "['*', '+', '!', '@', '<']\n",
      "['*', '+', '!', '@', '<', '%']\n",
      "['*', '+', '!', '@', '<', '%', '?']\n",
      "['*', '+', '!', '@', '<', '%', '?', '+']\n",
      "['*', '+', '!', '@', '<', '%', '?', '+', '*']\n",
      "['*', '+', '!', '@', '<', '%', '?', '+', '*', '+']\n",
      "['*', '+', '!', '@', '<', '%', '?', '+', '*', '+', '!']\n"
     ]
    }
   ],
   "source": [
    "count  = '*+!@<%?'\n",
    "\n",
    "\n",
    "myList=[]\n",
    "i=0\n",
    "for i in range(11):\n",
    "    myList.append(count[i])\n",
    "    print(myList)\n",
    "    count += '+' + count\n",
    "    "
   ]
  },
  {
   "cell_type": "code",
   "execution_count": 17,
   "metadata": {
    "collapsed": false,
    "scrolled": false
   },
   "outputs": [
    {
     "name": "stdout",
     "output_type": "stream",
     "text": [
      "*\n",
      "+\n",
      "!\n",
      "@\n",
      "<\n",
      "%\n",
      "?\n"
     ]
    }
   ],
   "source": [
    "count  = '*+!@<%?'\n",
    "\n",
    "\n",
    "myList=[]\n",
    "i=0\n",
    "for i in range(7):\n",
    "    print(count[i])\n",
    "    \n",
    "    "
   ]
  },
  {
   "cell_type": "code",
   "execution_count": 30,
   "metadata": {
    "collapsed": false
   },
   "outputs": [
    {
     "name": "stdout",
     "output_type": "stream",
     "text": [
      "+*!@<%?\n",
      "*\n",
      "+\n",
      "!\n",
      "@\n",
      "<\n",
      "%\n",
      "?\n",
      "+*!@<%?\n",
      "*\n",
      "+\n",
      "!\n",
      "@\n",
      "<\n",
      "%\n",
      "?\n",
      "+*!@<%?\n",
      "*\n",
      "+\n",
      "!\n",
      "@\n",
      "<\n",
      "%\n",
      "?\n",
      "+*!@<%?\n",
      "*\n",
      "+\n",
      "!\n",
      "@\n",
      "<\n",
      "%\n",
      "?\n",
      "+*!@<%?\n",
      "*\n",
      "+\n",
      "!\n",
      "@\n",
      "<\n",
      "%\n",
      "?\n",
      "+*!@<%?\n",
      "*\n",
      "+\n",
      "!\n",
      "@\n",
      "<\n",
      "%\n",
      "?\n",
      "+*!@<%?\n",
      "*\n",
      "+\n",
      "!\n",
      "@\n",
      "<\n",
      "%\n",
      "?\n"
     ]
    }
   ],
   "source": [
    "plus = '+'\n",
    "star = '*'\n",
    "exc = '!'\n",
    "at = '@'\n",
    "less = '<'\n",
    "per = '%'\n",
    "quest = '?'\n",
    "\n",
    "for i in range(7):\n",
    "    print(plus + star + exc + at + less + per + quest)\n",
    "    for i in range(7):\n",
    "        print(count[i])"
   ]
  },
  {
   "cell_type": "code",
   "execution_count": null,
   "metadata": {
    "collapsed": true
   },
   "outputs": [],
   "source": []
  }
 ],
 "metadata": {
  "kernelspec": {
   "display_name": "Python 3",
   "language": "python",
   "name": "python3"
  },
  "language_info": {
   "codemirror_mode": {
    "name": "ipython",
    "version": 3
   },
   "file_extension": ".py",
   "mimetype": "text/x-python",
   "name": "python",
   "nbconvert_exporter": "python",
   "pygments_lexer": "ipython3",
   "version": "3.5.1"
  }
 },
 "nbformat": 4,
 "nbformat_minor": 0
}
