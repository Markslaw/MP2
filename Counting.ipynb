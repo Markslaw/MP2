{
 "cells": [
  {
   "cell_type": "code",
   "execution_count": 7,
   "metadata": {
    "collapsed": false,
    "scrolled": true
   },
   "outputs": [
    {
     "name": "stdout",
     "output_type": "stream",
     "text": [
      "1\n",
      "2\n",
      "3\n",
      "4\n",
      "5\n",
      "6\n",
      "7\n",
      "8\n",
      "9\n",
      "10\n",
      "11\n",
      "12\n",
      "13\n",
      "14\n",
      "15\n",
      "16\n",
      "17\n",
      "18\n",
      "19\n",
      "20\n",
      "21\n",
      "22\n",
      "23\n",
      "24\n",
      "25\n",
      "26\n",
      "27\n",
      "28\n",
      "29\n",
      "30\n",
      "31\n",
      "32\n",
      "33\n",
      "34\n",
      "35\n",
      "36\n",
      "37\n",
      "38\n",
      "39\n",
      "40\n",
      "41\n",
      "42\n",
      "43\n",
      "44\n",
      "45\n",
      "46\n",
      "47\n",
      "48\n",
      "49\n",
      "50\n"
     ]
    }
   ],
   "source": [
    "count = (50)\n",
    "var = 0\n",
    "\n",
    "\n",
    "for i in range (count):\n",
    "    var += 1\n",
    "    print(var)"
   ]
  },
  {
   "cell_type": "code",
   "execution_count": 21,
   "metadata": {
    "collapsed": false,
    "scrolled": true
   },
   "outputs": [
    {
     "name": "stdout",
     "output_type": "stream",
     "text": [
      "['*']\n",
      "['*', '+']\n",
      "['*', '+', '!']\n",
      "['*', '+', '!', '@']\n",
      "['*', '+', '!', '@', '<']\n",
      "['*', '+', '!', '@', '<', '%']\n",
      "['*', '+', '!', '@', '<', '%', '?']\n"
     ]
    }
   ],
   "source": [
    "count = '*+!@<%?'\n",
    "\n",
    "\n",
    "myList=[]\n",
    "i=0\n",
    "for i in range(7):\n",
    "    myList.append(count[i])\n",
    "    print(myList)\n",
    "    "
   ]
  },
  {
   "cell_type": "code",
   "execution_count": 1,
   "metadata": {
    "collapsed": false
   },
   "outputs": [
    {
     "name": "stdout",
     "output_type": "stream",
     "text": [
      "['*']\n",
      "['*', '+']\n",
      "['*', '+', '!']\n",
      "['*', '+', '!', '@']\n",
      "['*', '+', '!', '@', '<']\n",
      "['*', '+', '!', '@', '<', '%']\n",
      "['*', '+', '!', '@', '<', '%', '?']\n",
      "['*', '+', '!', '@', '<', '%', '?', '+']\n",
      "['*', '+', '!', '@', '<', '%', '?', '+', '*']\n",
      "['*', '+', '!', '@', '<', '%', '?', '+', '*', '+']\n",
      "['*', '+', '!', '@', '<', '%', '?', '+', '*', '+', '!']\n"
     ]
    }
   ],
   "source": [
    "count  = '*+!@<%?'\n",
    "\n",
    "\n",
    "myList=[]\n",
    "i=0\n",
    "for i in range(11):\n",
    "    myList.append(count[i])\n",
    "    print(myList)\n",
    "    count += '+' + count\n",
    "    "
   ]
  },
  {
   "cell_type": "code",
   "execution_count": 56,
   "metadata": {
    "collapsed": false,
    "scrolled": false
   },
   "outputs": [
    {
     "name": "stdout",
     "output_type": "stream",
     "text": [
      "*\n",
      ",\n",
      "+\n",
      ",\n",
      "!\n",
      ",\n",
      "@\n"
     ]
    }
   ],
   "source": [
    "count  = '*,+,!,@,<,%,?'\n",
    "\n",
    "\n",
    "myList=[]\n",
    "i=0\n",
    "for i in range(7):\n",
    "    print(count[i])\n",
    "    \n",
    "    "
   ]
  },
  {
   "cell_type": "code",
   "execution_count": 30,
   "metadata": {
    "collapsed": false
   },
   "outputs": [
    {
     "name": "stdout",
     "output_type": "stream",
     "text": [
      "+*!@<%?\n",
      "*\n",
      "+\n",
      "!\n",
      "@\n",
      "<\n",
      "%\n",
      "?\n",
      "+*!@<%?\n",
      "*\n",
      "+\n",
      "!\n",
      "@\n",
      "<\n",
      "%\n",
      "?\n",
      "+*!@<%?\n",
      "*\n",
      "+\n",
      "!\n",
      "@\n",
      "<\n",
      "%\n",
      "?\n",
      "+*!@<%?\n",
      "*\n",
      "+\n",
      "!\n",
      "@\n",
      "<\n",
      "%\n",
      "?\n",
      "+*!@<%?\n",
      "*\n",
      "+\n",
      "!\n",
      "@\n",
      "<\n",
      "%\n",
      "?\n",
      "+*!@<%?\n",
      "*\n",
      "+\n",
      "!\n",
      "@\n",
      "<\n",
      "%\n",
      "?\n",
      "+*!@<%?\n",
      "*\n",
      "+\n",
      "!\n",
      "@\n",
      "<\n",
      "%\n",
      "?\n"
     ]
    }
   ],
   "source": [
    "plus = '+'\n",
    "star = '*'\n",
    "exc = '!'\n",
    "at = '@'\n",
    "less = '<'\n",
    "per = '%'\n",
    "quest = '?'\n",
    "\n",
    "for i in range(7):\n",
    "    print(plus + star + exc + at + less + per + quest)\n",
    "    for i in range(7):\n",
    "        print(count[i])"
   ]
  },
  {
   "cell_type": "code",
   "execution_count": 2,
   "metadata": {
    "collapsed": false
   },
   "outputs": [
    {
     "name": "stdout",
     "output_type": "stream",
     "text": [
      "1\n",
      "2\n",
      "3\n",
      "4\n"
     ]
    }
   ],
   "source": [
    "num = [1,2,3,4]\n",
    "for i in num:\n",
    "    print(i)"
   ]
  },
  {
   "cell_type": "code",
   "execution_count": 3,
   "metadata": {
    "collapsed": false
   },
   "outputs": [
    {
     "name": "stdout",
     "output_type": "stream",
     "text": [
      "[4, 3, 2, 1]\n"
     ]
    }
   ],
   "source": [
    "print(num[::-1])"
   ]
  },
  {
   "cell_type": "code",
   "execution_count": 4,
   "metadata": {
    "collapsed": false
   },
   "outputs": [
    {
     "name": "stdout",
     "output_type": "stream",
     "text": [
      "olleH\n"
     ]
    }
   ],
   "source": [
    "print (\"Hello\" [::-1])"
   ]
  },
  {
   "cell_type": "code",
   "execution_count": 5,
   "metadata": {
    "collapsed": false
   },
   "outputs": [
    {
     "data": {
      "text/plain": [
       "4"
      ]
     },
     "execution_count": 5,
     "metadata": {},
     "output_type": "execute_result"
    }
   ],
   "source": [
    "lotto = {1,2,3,4}\n",
    "len(lotto)"
   ]
  },
  {
   "cell_type": "code",
   "execution_count": 6,
   "metadata": {
    "collapsed": false
   },
   "outputs": [
    {
     "data": {
      "text/plain": [
       "set"
      ]
     },
     "execution_count": 6,
     "metadata": {},
     "output_type": "execute_result"
    }
   ],
   "source": [
    "type(lotto)"
   ]
  },
  {
   "cell_type": "code",
   "execution_count": 8,
   "metadata": {
    "collapsed": false
   },
   "outputs": [
    {
     "data": {
      "text/plain": [
       "4"
      ]
     },
     "execution_count": 8,
     "metadata": {},
     "output_type": "execute_result"
    }
   ],
   "source": [
    "lotto.add(1)\n",
    "len(lotto)"
   ]
  },
  {
   "cell_type": "code",
   "execution_count": 9,
   "metadata": {
    "collapsed": false
   },
   "outputs": [
    {
     "data": {
      "text/plain": [
       "set"
      ]
     },
     "execution_count": 9,
     "metadata": {},
     "output_type": "execute_result"
    }
   ],
   "source": [
    "type(lotto)"
   ]
  },
  {
   "cell_type": "code",
   "execution_count": 15,
   "metadata": {
    "collapsed": false
   },
   "outputs": [
    {
     "data": {
      "text/plain": [
       "list"
      ]
     },
     "execution_count": 15,
     "metadata": {},
     "output_type": "execute_result"
    }
   ],
   "source": [
    "lottolist = [1,2,3,4]\n",
    "type (lottolist)"
   ]
  },
  {
   "cell_type": "code",
   "execution_count": 70,
   "metadata": {
    "collapsed": false
   },
   "outputs": [],
   "source": [
    "lottolist.append(1 )"
   ]
  },
  {
   "cell_type": "code",
   "execution_count": 71,
   "metadata": {
    "collapsed": false
   },
   "outputs": [
    {
     "data": {
      "text/plain": [
       "({1, 2, 3, 4}, [1, 2, 3, 4, 1, 1, 1, 1233122312, 1, 2, 3, -1, 1])"
      ]
     },
     "execution_count": 71,
     "metadata": {},
     "output_type": "execute_result"
    }
   ],
   "source": [
    "lotto, lottolist"
   ]
  },
  {
   "cell_type": "code",
   "execution_count": 39,
   "metadata": {
    "collapsed": false
   },
   "outputs": [
    {
     "name": "stdout",
     "output_type": "stream",
     "text": [
      "0,1,2,3,4,5,6,7,8,9,10,11,0,1,2,3,4,5,6,7,8,9,10,11,0,1,2,3,4,5,6,7,8,9,10,11,0,1,2,3,4,5,6,7,8,9,10,11,0,1,2,3,4,5,6,7,8,9,10,11,0,1,2,3,4,5,6,7,8,9,10,11,0,1,2,3,4,5,6,7,8,9,10,11,0,1,2,3,4,5,6,7,8,9,10,11,0,1,2,3,"
     ]
    }
   ],
   "source": [
    "for i in range (100):\n",
    "    print(i % 12, end = ',')"
   ]
  },
  {
   "cell_type": "code",
   "execution_count": 40,
   "metadata": {
    "collapsed": false
   },
   "outputs": [
    {
     "ename": "NameError",
     "evalue": "name 'count' is not defined",
     "output_type": "error",
     "traceback": [
      "\u001b[1;31m---------------------------------------------------------------------------\u001b[0m",
      "\u001b[1;31mNameError\u001b[0m                                 Traceback (most recent call last)",
      "\u001b[1;32m<ipython-input-40-53de1f5c5681>\u001b[0m in \u001b[0;36m<module>\u001b[1;34m()\u001b[0m\n\u001b[1;32m----> 1\u001b[1;33m \u001b[0mprint\u001b[0m \u001b[1;33m(\u001b[0m\u001b[0mcount\u001b[0m\u001b[1;33m)\u001b[0m\u001b[1;33m\u001b[0m\u001b[0m\n\u001b[0m",
      "\u001b[1;31mNameError\u001b[0m: name 'count' is not defined"
     ]
    }
   ],
   "source": [
    "print (count)"
   ]
  },
  {
   "cell_type": "code",
   "execution_count": 42,
   "metadata": {
    "collapsed": false
   },
   "outputs": [
    {
     "name": "stdout",
     "output_type": "stream",
     "text": [
      "[]\n"
     ]
    }
   ],
   "source": [
    "print(myList)"
   ]
  },
  {
   "cell_type": "code",
   "execution_count": 43,
   "metadata": {
    "collapsed": false
   },
   "outputs": [
    {
     "name": "stdout",
     "output_type": "stream",
     "text": [
      "*+!@<%?\n"
     ]
    }
   ],
   "source": [
    "print(count)"
   ]
  },
  {
   "cell_type": "code",
   "execution_count": 44,
   "metadata": {
    "collapsed": false
   },
   "outputs": [
    {
     "data": {
      "text/plain": [
       "7"
      ]
     },
     "execution_count": 44,
     "metadata": {},
     "output_type": "execute_result"
    }
   ],
   "source": [
    "len(count)"
   ]
  },
  {
   "cell_type": "code",
   "execution_count": 55,
   "metadata": {
    "collapsed": false
   },
   "outputs": [
    {
     "name": "stdout",
     "output_type": "stream",
     "text": [
      "*+!@<%?,*+!@<%?,*+!@<%?,*+!@<%?,*+!@<%?,*+!@<%?,*+!@<%?,*+!@<%?,*+!@<%?,*+!@<%?,*+!@<%?,*+!@<%?,*+!@<%?,*+!@<%?,*+!@<%?,*+!@<%?,*+!@<%?,*+!@<%?,*+!@<%?,*+!@<%?,*+!@<%?,*+!@<%?,*+!@<%?,*+!@<%?,*+!@<%?,*+!@<%?,*+!@<%?,*+!@<%?,*+!@<%?,*+!@<%?,*+!@<%?,*+!@<%?,*+!@<%?,*+!@<%?,*+!@<%?,*+!@<%?,*+!@<%?,*+!@<%?,*+!@<%?,*+!@<%?,*+!@<%?,*+!@<%?,*+!@<%?,*+!@<%?,*+!@<%?,*+!@<%?,*+!@<%?,*+!@<%?,*+!@<%?,*+!@<%?,"
     ]
    }
   ],
   "source": [
    "for i in range(50):\n",
    "    print(count, end = ',')"
   ]
  },
  {
   "cell_type": "code",
   "execution_count": 59,
   "metadata": {
    "collapsed": false
   },
   "outputs": [
    {
     "name": "stdout",
     "output_type": "stream",
     "text": [
      "0,1,2,3,4,5,6,7,8,9,0,1,2,3,4,5,6,7,8,9,0,1,2,3,4,5,6,7,8,9,0,1,2,3,4,5,6,7,8,9,0,1,2,3,4,5,6,7,8,9,0,1,2,3,4,5,6,7,8,9,0,1,2,3,4,5,6,7,8,9,0,1,2,3,4,5,6,7,8,9,0,1,2,3,4,5,6,7,8,9,0,1,2,3,4,5,6,7,8,9,"
     ]
    }
   ],
   "source": [
    "\n",
    "for i in range (100):\n",
    "    print(i%10, end=',')\n",
    "    "
   ]
  },
  {
   "cell_type": "code",
   "execution_count": 69,
   "metadata": {
    "collapsed": false
   },
   "outputs": [
    {
     "name": "stdout",
     "output_type": "stream",
     "text": [
      "You must carry a 1\n"
     ]
    }
   ],
   "source": [
    "curr = 99\n",
    "if (curr + 1) % 10 == 0:\n",
    "    print(\"You must carry a 1\")  "
   ]
  },
  {
   "cell_type": "code",
   "execution_count": 84,
   "metadata": {
    "collapsed": false
   },
   "outputs": [],
   "source": [
    "numList= ['9','9']\n",
    "result=['1']\n",
    "for i in range(1,len(numList)):\n",
    "    result.append('0')\n",
    "    result"
   ]
  },
  {
   "cell_type": "code",
   "execution_count": 80,
   "metadata": {
    "collapsed": false
   },
   "outputs": [
    {
     "data": {
      "text/plain": [
       "['1', '0']"
      ]
     },
     "execution_count": 80,
     "metadata": {},
     "output_type": "execute_result"
    }
   ],
   "source": [
    "result"
   ]
  },
  {
   "cell_type": "code",
   "execution_count": 100,
   "metadata": {
    "collapsed": false
   },
   "outputs": [],
   "source": [
    "numList= ['9','9']\n",
    "result=['1']\n",
    "for i in range(len(numList)):\n",
    "    result.append('0')"
   ]
  },
  {
   "cell_type": "code",
   "execution_count": 101,
   "metadata": {
    "collapsed": false
   },
   "outputs": [
    {
     "data": {
      "text/plain": [
       "['1', '0', '0']"
      ]
     },
     "execution_count": 101,
     "metadata": {},
     "output_type": "execute_result"
    }
   ],
   "source": [
    "result"
   ]
  },
  {
   "cell_type": "code",
   "execution_count": null,
   "metadata": {
    "collapsed": true
   },
   "outputs": [],
   "source": []
  }
 ],
 "metadata": {
  "kernelspec": {
   "display_name": "Python 3",
   "language": "python",
   "name": "python3"
  },
  "language_info": {
   "codemirror_mode": {
    "name": "ipython",
    "version": 3
   },
   "file_extension": ".py",
   "mimetype": "text/x-python",
   "name": "python",
   "nbconvert_exporter": "python",
   "pygments_lexer": "ipython3",
   "version": "3.5.1"
  }
 },
 "nbformat": 4,
 "nbformat_minor": 0
}
